{
 "cells": [
  {
   "cell_type": "markdown",
   "metadata": {},
   "source": [
    "\n",
    "# Analysis Of TMDB Movies Dataset\n",
    "\n",
    "## Table of Contents\n",
    "<ul>\n",
    "<li><a href=\"#intro\">Introduction</a></li>\n",
    "<li><a href=\"#load\">Loading The Data</a></li>\n",
    "<li><a href=\"#wrangling\">Data Wrangling</a>\n",
    "     <ul>\n",
    "            <li><a href=\"#drop_null\">Drop Null Values</a></li>\n",
    "            <li><a href=\"#drop_duplicate\">Drop Duplicates</a></li>\n",
    "            <li><a href=\"#clean_datatype\">Clean Data Types</a></li>\n",
    "     </ul>\n",
    "</li>\n",
    "<li><a href=\"#eda\">Exploratory Data Analysis</a>\n",
    "    <ul>\n",
    "            <li><a href=\"#Expolre_relationships\">Explore Relationship Between Different Variables</a></li>\n",
    "            <li><a href=\"#Answer_question\">Answer Questions</a></li>\n",
    "    </ul>\n",
    "</li>\n",
    "<li><a href=\"#conclusions\">Conclusions</a></li>\n",
    "</ul>"
   ]
  },
  {
   "cell_type": "markdown",
   "metadata": {},
   "source": [
    "<a id='intro'></a>\n",
    "## Introduction\n",
    "\n",
    "### Dataset Description \n",
    ">  Analysing a Dataset of about 10,000 movies collected from The Movies Database starting from year 1961 - 2015.\n",
    "\n",
    "### Question(s) for Analysis\n",
    "> How a movies budget affects its Revenue\n",
    "\n",
    "> How does popularity of a movie contribute to the succces or failer of the movies. "
   ]
  },
  {
   "cell_type": "markdown",
   "metadata": {},
   "source": [
    "<a id=\"import\"></a>\n",
    "# Importing Modules\n",
    "The modules required to analyse the data are: `pandas`, `numpy`, `matplotlib`, and `seaborn`."
   ]
  },
  {
   "cell_type": "code",
   "execution_count": 32,
   "metadata": {},
   "outputs": [],
   "source": [
    "#importing the neccesary modules\n",
    "import pandas as pd\n",
    "import numpy as np\n",
    "import matplotlib.pyplot as plt\n",
    "import seaborn as sns\n",
    "% matplotlib inline"
   ]
  },
  {
   "cell_type": "markdown",
   "metadata": {},
   "source": [
    "<a id=\"load\"></a>\n",
    "# Loading the Dataset"
   ]
  },
  {
   "cell_type": "code",
   "execution_count": 33,
   "metadata": {},
   "outputs": [
    {
     "data": {
      "text/html": [
       "<div>\n",
       "<style scoped>\n",
       "    .dataframe tbody tr th:only-of-type {\n",
       "        vertical-align: middle;\n",
       "    }\n",
       "\n",
       "    .dataframe tbody tr th {\n",
       "        vertical-align: top;\n",
       "    }\n",
       "\n",
       "    .dataframe thead th {\n",
       "        text-align: right;\n",
       "    }\n",
       "</style>\n",
       "<table border=\"1\" class=\"dataframe\">\n",
       "  <thead>\n",
       "    <tr style=\"text-align: right;\">\n",
       "      <th></th>\n",
       "      <th>id</th>\n",
       "      <th>imdb_id</th>\n",
       "      <th>popularity</th>\n",
       "      <th>budget</th>\n",
       "      <th>revenue</th>\n",
       "      <th>original_title</th>\n",
       "      <th>cast</th>\n",
       "      <th>homepage</th>\n",
       "      <th>director</th>\n",
       "      <th>tagline</th>\n",
       "      <th>...</th>\n",
       "      <th>overview</th>\n",
       "      <th>runtime</th>\n",
       "      <th>genres</th>\n",
       "      <th>production_companies</th>\n",
       "      <th>release_date</th>\n",
       "      <th>vote_count</th>\n",
       "      <th>vote_average</th>\n",
       "      <th>release_year</th>\n",
       "      <th>budget_adj</th>\n",
       "      <th>revenue_adj</th>\n",
       "    </tr>\n",
       "  </thead>\n",
       "  <tbody>\n",
       "    <tr>\n",
       "      <th>0</th>\n",
       "      <td>135397</td>\n",
       "      <td>tt0369610</td>\n",
       "      <td>32.985763</td>\n",
       "      <td>150000000</td>\n",
       "      <td>1513528810</td>\n",
       "      <td>Jurassic World</td>\n",
       "      <td>Chris Pratt|Bryce Dallas Howard|Irrfan Khan|Vi...</td>\n",
       "      <td>http://www.jurassicworld.com/</td>\n",
       "      <td>Colin Trevorrow</td>\n",
       "      <td>The park is open.</td>\n",
       "      <td>...</td>\n",
       "      <td>Twenty-two years after the events of Jurassic ...</td>\n",
       "      <td>124</td>\n",
       "      <td>Action|Adventure|Science Fiction|Thriller</td>\n",
       "      <td>Universal Studios|Amblin Entertainment|Legenda...</td>\n",
       "      <td>6/9/15</td>\n",
       "      <td>5562</td>\n",
       "      <td>6.5</td>\n",
       "      <td>2015</td>\n",
       "      <td>1.379999e+08</td>\n",
       "      <td>1.392446e+09</td>\n",
       "    </tr>\n",
       "    <tr>\n",
       "      <th>1</th>\n",
       "      <td>76341</td>\n",
       "      <td>tt1392190</td>\n",
       "      <td>28.419936</td>\n",
       "      <td>150000000</td>\n",
       "      <td>378436354</td>\n",
       "      <td>Mad Max: Fury Road</td>\n",
       "      <td>Tom Hardy|Charlize Theron|Hugh Keays-Byrne|Nic...</td>\n",
       "      <td>http://www.madmaxmovie.com/</td>\n",
       "      <td>George Miller</td>\n",
       "      <td>What a Lovely Day.</td>\n",
       "      <td>...</td>\n",
       "      <td>An apocalyptic story set in the furthest reach...</td>\n",
       "      <td>120</td>\n",
       "      <td>Action|Adventure|Science Fiction|Thriller</td>\n",
       "      <td>Village Roadshow Pictures|Kennedy Miller Produ...</td>\n",
       "      <td>5/13/15</td>\n",
       "      <td>6185</td>\n",
       "      <td>7.1</td>\n",
       "      <td>2015</td>\n",
       "      <td>1.379999e+08</td>\n",
       "      <td>3.481613e+08</td>\n",
       "    </tr>\n",
       "    <tr>\n",
       "      <th>2</th>\n",
       "      <td>262500</td>\n",
       "      <td>tt2908446</td>\n",
       "      <td>13.112507</td>\n",
       "      <td>110000000</td>\n",
       "      <td>295238201</td>\n",
       "      <td>Insurgent</td>\n",
       "      <td>Shailene Woodley|Theo James|Kate Winslet|Ansel...</td>\n",
       "      <td>http://www.thedivergentseries.movie/#insurgent</td>\n",
       "      <td>Robert Schwentke</td>\n",
       "      <td>One Choice Can Destroy You</td>\n",
       "      <td>...</td>\n",
       "      <td>Beatrice Prior must confront her inner demons ...</td>\n",
       "      <td>119</td>\n",
       "      <td>Adventure|Science Fiction|Thriller</td>\n",
       "      <td>Summit Entertainment|Mandeville Films|Red Wago...</td>\n",
       "      <td>3/18/15</td>\n",
       "      <td>2480</td>\n",
       "      <td>6.3</td>\n",
       "      <td>2015</td>\n",
       "      <td>1.012000e+08</td>\n",
       "      <td>2.716190e+08</td>\n",
       "    </tr>\n",
       "    <tr>\n",
       "      <th>3</th>\n",
       "      <td>140607</td>\n",
       "      <td>tt2488496</td>\n",
       "      <td>11.173104</td>\n",
       "      <td>200000000</td>\n",
       "      <td>2068178225</td>\n",
       "      <td>Star Wars: The Force Awakens</td>\n",
       "      <td>Harrison Ford|Mark Hamill|Carrie Fisher|Adam D...</td>\n",
       "      <td>http://www.starwars.com/films/star-wars-episod...</td>\n",
       "      <td>J.J. Abrams</td>\n",
       "      <td>Every generation has a story.</td>\n",
       "      <td>...</td>\n",
       "      <td>Thirty years after defeating the Galactic Empi...</td>\n",
       "      <td>136</td>\n",
       "      <td>Action|Adventure|Science Fiction|Fantasy</td>\n",
       "      <td>Lucasfilm|Truenorth Productions|Bad Robot</td>\n",
       "      <td>12/15/15</td>\n",
       "      <td>5292</td>\n",
       "      <td>7.5</td>\n",
       "      <td>2015</td>\n",
       "      <td>1.839999e+08</td>\n",
       "      <td>1.902723e+09</td>\n",
       "    </tr>\n",
       "    <tr>\n",
       "      <th>4</th>\n",
       "      <td>168259</td>\n",
       "      <td>tt2820852</td>\n",
       "      <td>9.335014</td>\n",
       "      <td>190000000</td>\n",
       "      <td>1506249360</td>\n",
       "      <td>Furious 7</td>\n",
       "      <td>Vin Diesel|Paul Walker|Jason Statham|Michelle ...</td>\n",
       "      <td>http://www.furious7.com/</td>\n",
       "      <td>James Wan</td>\n",
       "      <td>Vengeance Hits Home</td>\n",
       "      <td>...</td>\n",
       "      <td>Deckard Shaw seeks revenge against Dominic Tor...</td>\n",
       "      <td>137</td>\n",
       "      <td>Action|Crime|Thriller</td>\n",
       "      <td>Universal Pictures|Original Film|Media Rights ...</td>\n",
       "      <td>4/1/15</td>\n",
       "      <td>2947</td>\n",
       "      <td>7.3</td>\n",
       "      <td>2015</td>\n",
       "      <td>1.747999e+08</td>\n",
       "      <td>1.385749e+09</td>\n",
       "    </tr>\n",
       "  </tbody>\n",
       "</table>\n",
       "<p>5 rows × 21 columns</p>\n",
       "</div>"
      ],
      "text/plain": [
       "       id    imdb_id  popularity     budget     revenue  \\\n",
       "0  135397  tt0369610   32.985763  150000000  1513528810   \n",
       "1   76341  tt1392190   28.419936  150000000   378436354   \n",
       "2  262500  tt2908446   13.112507  110000000   295238201   \n",
       "3  140607  tt2488496   11.173104  200000000  2068178225   \n",
       "4  168259  tt2820852    9.335014  190000000  1506249360   \n",
       "\n",
       "                 original_title  \\\n",
       "0                Jurassic World   \n",
       "1            Mad Max: Fury Road   \n",
       "2                     Insurgent   \n",
       "3  Star Wars: The Force Awakens   \n",
       "4                     Furious 7   \n",
       "\n",
       "                                                cast  \\\n",
       "0  Chris Pratt|Bryce Dallas Howard|Irrfan Khan|Vi...   \n",
       "1  Tom Hardy|Charlize Theron|Hugh Keays-Byrne|Nic...   \n",
       "2  Shailene Woodley|Theo James|Kate Winslet|Ansel...   \n",
       "3  Harrison Ford|Mark Hamill|Carrie Fisher|Adam D...   \n",
       "4  Vin Diesel|Paul Walker|Jason Statham|Michelle ...   \n",
       "\n",
       "                                            homepage          director  \\\n",
       "0                      http://www.jurassicworld.com/   Colin Trevorrow   \n",
       "1                        http://www.madmaxmovie.com/     George Miller   \n",
       "2     http://www.thedivergentseries.movie/#insurgent  Robert Schwentke   \n",
       "3  http://www.starwars.com/films/star-wars-episod...       J.J. Abrams   \n",
       "4                           http://www.furious7.com/         James Wan   \n",
       "\n",
       "                         tagline      ...       \\\n",
       "0              The park is open.      ...        \n",
       "1             What a Lovely Day.      ...        \n",
       "2     One Choice Can Destroy You      ...        \n",
       "3  Every generation has a story.      ...        \n",
       "4            Vengeance Hits Home      ...        \n",
       "\n",
       "                                            overview runtime  \\\n",
       "0  Twenty-two years after the events of Jurassic ...     124   \n",
       "1  An apocalyptic story set in the furthest reach...     120   \n",
       "2  Beatrice Prior must confront her inner demons ...     119   \n",
       "3  Thirty years after defeating the Galactic Empi...     136   \n",
       "4  Deckard Shaw seeks revenge against Dominic Tor...     137   \n",
       "\n",
       "                                      genres  \\\n",
       "0  Action|Adventure|Science Fiction|Thriller   \n",
       "1  Action|Adventure|Science Fiction|Thriller   \n",
       "2         Adventure|Science Fiction|Thriller   \n",
       "3   Action|Adventure|Science Fiction|Fantasy   \n",
       "4                      Action|Crime|Thriller   \n",
       "\n",
       "                                production_companies release_date vote_count  \\\n",
       "0  Universal Studios|Amblin Entertainment|Legenda...       6/9/15       5562   \n",
       "1  Village Roadshow Pictures|Kennedy Miller Produ...      5/13/15       6185   \n",
       "2  Summit Entertainment|Mandeville Films|Red Wago...      3/18/15       2480   \n",
       "3          Lucasfilm|Truenorth Productions|Bad Robot     12/15/15       5292   \n",
       "4  Universal Pictures|Original Film|Media Rights ...       4/1/15       2947   \n",
       "\n",
       "   vote_average  release_year    budget_adj   revenue_adj  \n",
       "0           6.5          2015  1.379999e+08  1.392446e+09  \n",
       "1           7.1          2015  1.379999e+08  3.481613e+08  \n",
       "2           6.3          2015  1.012000e+08  2.716190e+08  \n",
       "3           7.5          2015  1.839999e+08  1.902723e+09  \n",
       "4           7.3          2015  1.747999e+08  1.385749e+09  \n",
       "\n",
       "[5 rows x 21 columns]"
      ]
     },
     "execution_count": 33,
     "metadata": {},
     "output_type": "execute_result"
    }
   ],
   "source": [
    "# a function to load the data to be used for analysis\n",
    "\n",
    "def open_a_csv(filename):\n",
    "    \n",
    "    \"\"\" A function tha reads \n",
    "    data from a csv file\n",
    "    loads it into a dataframe\n",
    "    \"\"\"\n",
    "\n",
    "    data = pd.read_csv(filename)\n",
    "\n",
    "    return data\n",
    "\n",
    "file_name = 'tmdb-movies.csv'\n",
    "df = open_a_csv(filename=file_name)\n",
    "df.head()\n"
   ]
  },
  {
   "cell_type": "markdown",
   "metadata": {},
   "source": [
    "# Describing The Data"
   ]
  },
  {
   "cell_type": "code",
   "execution_count": 34,
   "metadata": {},
   "outputs": [
    {
     "name": "stdout",
     "output_type": "stream",
     "text": [
      "<class 'pandas.core.frame.DataFrame'>\n",
      "RangeIndex: 10866 entries, 0 to 10865\n",
      "Data columns (total 21 columns):\n",
      "id                      10866 non-null int64\n",
      "imdb_id                 10856 non-null object\n",
      "popularity              10866 non-null float64\n",
      "budget                  10866 non-null int64\n",
      "revenue                 10866 non-null int64\n",
      "original_title          10866 non-null object\n",
      "cast                    10790 non-null object\n",
      "homepage                2936 non-null object\n",
      "director                10822 non-null object\n",
      "tagline                 8042 non-null object\n",
      "keywords                9373 non-null object\n",
      "overview                10862 non-null object\n",
      "runtime                 10866 non-null int64\n",
      "genres                  10843 non-null object\n",
      "production_companies    9836 non-null object\n",
      "release_date            10866 non-null object\n",
      "vote_count              10866 non-null int64\n",
      "vote_average            10866 non-null float64\n",
      "release_year            10866 non-null int64\n",
      "budget_adj              10866 non-null float64\n",
      "revenue_adj             10866 non-null float64\n",
      "dtypes: float64(4), int64(6), object(11)\n",
      "memory usage: 1.7+ MB\n"
     ]
    }
   ],
   "source": [
    "df.info()"
   ]
  },
  {
   "cell_type": "markdown",
   "metadata": {},
   "source": [
    "## The dataset have the following attributes\n",
    "  \n",
    " - **Rows**: 10866\n",
    " - **Columns**: 21\n",
    " - **Column Names**:       \n",
    "   - id\n",
    "   - imdb_id\n",
    "   - popularity\n",
    "   - budget\n",
    "   - revenue\n",
    "   - original_title\n",
    "   - cast\n",
    "   - homepage: Movie website homepage\n",
    "   - director\n",
    "   - tagline \n",
    "   - keywords \n",
    "   - overview\n",
    "   - runtime\n",
    "   - genres\n",
    "   - production_companies\n",
    "   - release_date\n",
    "   - vote_count\n",
    "   - vote_average\n",
    "   - release_year\n",
    "   - budget_adj\n",
    "   - revenue_adj"
   ]
  },
  {
   "cell_type": "markdown",
   "metadata": {},
   "source": [
    "<a id='wrangling'></a>\n",
    "## Data Wrangling\n"
   ]
  },
  {
   "cell_type": "markdown",
   "metadata": {},
   "source": [
    "\n",
    "### Data Cleaning\n",
    "  - **checking null values**\n",
    "  - **checking duplicated values**"
   ]
  },
  {
   "cell_type": "code",
   "execution_count": 35,
   "metadata": {},
   "outputs": [
    {
     "data": {
      "text/plain": [
       "9"
      ]
     },
     "execution_count": 35,
     "metadata": {},
     "output_type": "execute_result"
    }
   ],
   "source": [
    "#Cheking for null values\n",
    "\n",
    "def check_null(dataframe):\n",
    "\n",
    "    \"\"\"A functin to check\n",
    "    columns with null values.    \n",
    "    \"\"\"\n",
    "\n",
    "    data = dataframe.isnull().any()\n",
    "\n",
    "    return data\n",
    "\n",
    "check_null(df).sum()"
   ]
  },
  {
   "cell_type": "markdown",
   "metadata": {},
   "source": [
    "# Dropping Null Values"
   ]
  },
  {
   "cell_type": "code",
   "execution_count": 36,
   "metadata": {},
   "outputs": [
    {
     "data": {
      "text/plain": [
       "(1992, 21)"
      ]
     },
     "execution_count": 36,
     "metadata": {},
     "output_type": "execute_result"
    }
   ],
   "source": [
    "df.dropna(axis=0, inplace=True)\n",
    "df.shape"
   ]
  },
  {
   "cell_type": "markdown",
   "metadata": {},
   "source": [
    "- **checking for null values again**"
   ]
  },
  {
   "cell_type": "code",
   "execution_count": 37,
   "metadata": {},
   "outputs": [
    {
     "data": {
      "text/plain": [
       "0"
      ]
     },
     "execution_count": 37,
     "metadata": {},
     "output_type": "execute_result"
    }
   ],
   "source": [
    "check_null(df).sum()"
   ]
  },
  {
   "cell_type": "code",
   "execution_count": 38,
   "metadata": {},
   "outputs": [
    {
     "data": {
      "text/plain": [
       "0"
      ]
     },
     "execution_count": 38,
     "metadata": {},
     "output_type": "execute_result"
    }
   ],
   "source": [
    "#Cheking for duplicate values\n",
    "df.duplicated().sum()"
   ]
  },
  {
   "cell_type": "markdown",
   "metadata": {},
   "source": [
    "# Dropping Unnecessary Columns"
   ]
  },
  {
   "cell_type": "markdown",
   "metadata": {},
   "source": [
    "- Dropping columns which aren't needed in our analysis\n",
    "- The columns dropped are: `homepage`, `tagline`, `keywords`, `imdb_id`, `overview`, `budget_adj`, `revenue_adj`"
   ]
  },
  {
   "cell_type": "code",
   "execution_count": 39,
   "metadata": {},
   "outputs": [
    {
     "data": {
      "text/plain": [
       "Index(['id', 'popularity', 'budget', 'revenue', 'original_title', 'cast',\n",
       "       'director', 'runtime', 'genres', 'production_companies', 'release_date',\n",
       "       'vote_count', 'vote_average', 'release_year'],\n",
       "      dtype='object')"
      ]
     },
     "execution_count": 39,
     "metadata": {},
     "output_type": "execute_result"
    }
   ],
   "source": [
    "df.drop(columns=['imdb_id', 'homepage', 'tagline', 'keywords', 'overview', 'budget_adj', 'revenue_adj'], inplace=True)\n",
    "df.columns"
   ]
  },
  {
   "cell_type": "markdown",
   "metadata": {},
   "source": [
    "# Checking Data Types\n",
    " - cheking the data's data types to see if any data type coversion is necessary"
   ]
  },
  {
   "cell_type": "code",
   "execution_count": 40,
   "metadata": {},
   "outputs": [
    {
     "data": {
      "text/plain": [
       "id                        int64\n",
       "popularity              float64\n",
       "budget                    int64\n",
       "revenue                   int64\n",
       "original_title           object\n",
       "cast                     object\n",
       "director                 object\n",
       "runtime                   int64\n",
       "genres                   object\n",
       "production_companies     object\n",
       "release_date             object\n",
       "vote_count                int64\n",
       "vote_average            float64\n",
       "release_year              int64\n",
       "dtype: object"
      ]
     },
     "execution_count": 40,
     "metadata": {},
     "output_type": "execute_result"
    }
   ],
   "source": [
    "df.dtypes"
   ]
  },
  {
   "cell_type": "markdown",
   "metadata": {},
   "source": [
    "- The Realease date column data type is an object so we are gonna change it to datetime data type"
   ]
  },
  {
   "cell_type": "code",
   "execution_count": 41,
   "metadata": {},
   "outputs": [],
   "source": [
    "# Replace the year part with the `release_year` column\n",
    "df.release_date = df.apply(lambda x: x.release_date[:-2] + str(x.release_year), axis=1)\n",
    "\n",
    "# Converting the datatype\n",
    "df.release_date = pd.to_datetime(df.release_date)"
   ]
  },
  {
   "cell_type": "code",
   "execution_count": 42,
   "metadata": {},
   "outputs": [
    {
     "data": {
      "text/plain": [
       "0       2015-06-09\n",
       "1       2015-05-13\n",
       "2       2015-03-18\n",
       "3       2015-12-15\n",
       "4       2015-04-01\n",
       "5       2015-12-25\n",
       "6       2015-06-23\n",
       "7       2015-09-30\n",
       "8       2015-06-17\n",
       "9       2015-06-09\n",
       "10      2015-10-26\n",
       "11      2015-02-04\n",
       "12      2015-01-21\n",
       "13      2015-07-16\n",
       "14      2015-04-22\n",
       "15      2015-12-25\n",
       "16      2015-01-01\n",
       "17      2015-07-14\n",
       "19      2015-11-18\n",
       "20      2015-05-19\n",
       "22      2015-05-27\n",
       "23      2015-02-11\n",
       "24      2015-12-11\n",
       "25      2015-07-23\n",
       "27      2015-01-24\n",
       "28      2015-11-06\n",
       "29      2015-09-09\n",
       "30      2015-06-19\n",
       "31      2015-03-04\n",
       "34      2015-08-05\n",
       "           ...    \n",
       "9992    1990-03-02\n",
       "10012   1990-05-18\n",
       "10078   1990-09-07\n",
       "10094   1990-11-09\n",
       "10131   1961-12-15\n",
       "10190   1976-11-05\n",
       "10213   1976-11-05\n",
       "10222   1993-11-29\n",
       "10223   1993-06-11\n",
       "10224   1993-10-08\n",
       "10238   1993-12-17\n",
       "10251   1993-11-11\n",
       "10255   1993-09-01\n",
       "10317   1993-01-15\n",
       "10328   1993-08-07\n",
       "10338   1993-07-23\n",
       "10372   1993-10-01\n",
       "10401   1967-06-12\n",
       "10438   1963-10-11\n",
       "10489   1986-05-30\n",
       "10567   1986-08-29\n",
       "10594   1973-12-26\n",
       "10595   1973-07-05\n",
       "10657   1970-07-17\n",
       "10689   1965-12-16\n",
       "10724   1969-12-12\n",
       "10759   1978-10-25\n",
       "10760   1978-07-27\n",
       "10817   1978-05-01\n",
       "10819   1978-07-28\n",
       "Name: release_date, Length: 1992, dtype: datetime64[ns]"
      ]
     },
     "execution_count": 42,
     "metadata": {},
     "output_type": "execute_result"
    }
   ],
   "source": [
    "df.release_date"
   ]
  },
  {
   "cell_type": "markdown",
   "metadata": {},
   "source": [
    "<a id='eda'></a>\n",
    "# Exploratory Data Analysis"
   ]
  },
  {
   "cell_type": "markdown",
   "metadata": {},
   "source": [
    "### Explore the Data to see all the data sets"
   ]
  },
  {
   "cell_type": "code",
   "execution_count": 43,
   "metadata": {},
   "outputs": [
    {
     "data": {
      "text/html": [
       "<div>\n",
       "<style scoped>\n",
       "    .dataframe tbody tr th:only-of-type {\n",
       "        vertical-align: middle;\n",
       "    }\n",
       "\n",
       "    .dataframe tbody tr th {\n",
       "        vertical-align: top;\n",
       "    }\n",
       "\n",
       "    .dataframe thead th {\n",
       "        text-align: right;\n",
       "    }\n",
       "</style>\n",
       "<table border=\"1\" class=\"dataframe\">\n",
       "  <thead>\n",
       "    <tr style=\"text-align: right;\">\n",
       "      <th></th>\n",
       "      <th>id</th>\n",
       "      <th>popularity</th>\n",
       "      <th>budget</th>\n",
       "      <th>revenue</th>\n",
       "      <th>runtime</th>\n",
       "      <th>vote_count</th>\n",
       "      <th>vote_average</th>\n",
       "      <th>release_year</th>\n",
       "    </tr>\n",
       "  </thead>\n",
       "  <tbody>\n",
       "    <tr>\n",
       "      <th>count</th>\n",
       "      <td>1992.000000</td>\n",
       "      <td>1992.000000</td>\n",
       "      <td>1.992000e+03</td>\n",
       "      <td>1.992000e+03</td>\n",
       "      <td>1992.000000</td>\n",
       "      <td>1992.000000</td>\n",
       "      <td>1992.000000</td>\n",
       "      <td>1992.000000</td>\n",
       "    </tr>\n",
       "    <tr>\n",
       "      <th>mean</th>\n",
       "      <td>71652.152108</td>\n",
       "      <td>1.316763</td>\n",
       "      <td>3.454924e+07</td>\n",
       "      <td>1.152153e+08</td>\n",
       "      <td>106.040161</td>\n",
       "      <td>643.616968</td>\n",
       "      <td>6.178614</td>\n",
       "      <td>2007.796687</td>\n",
       "    </tr>\n",
       "    <tr>\n",
       "      <th>std</th>\n",
       "      <td>92355.883915</td>\n",
       "      <td>1.873563</td>\n",
       "      <td>5.061878e+07</td>\n",
       "      <td>2.202887e+08</td>\n",
       "      <td>29.234592</td>\n",
       "      <td>1092.355998</td>\n",
       "      <td>0.881955</td>\n",
       "      <td>7.549224</td>\n",
       "    </tr>\n",
       "    <tr>\n",
       "      <th>min</th>\n",
       "      <td>11.000000</td>\n",
       "      <td>0.000620</td>\n",
       "      <td>0.000000e+00</td>\n",
       "      <td>0.000000e+00</td>\n",
       "      <td>0.000000</td>\n",
       "      <td>10.000000</td>\n",
       "      <td>2.100000</td>\n",
       "      <td>1961.000000</td>\n",
       "    </tr>\n",
       "    <tr>\n",
       "      <th>25%</th>\n",
       "      <td>9699.000000</td>\n",
       "      <td>0.384079</td>\n",
       "      <td>0.000000e+00</td>\n",
       "      <td>0.000000e+00</td>\n",
       "      <td>92.000000</td>\n",
       "      <td>51.000000</td>\n",
       "      <td>5.600000</td>\n",
       "      <td>2006.000000</td>\n",
       "    </tr>\n",
       "    <tr>\n",
       "      <th>50%</th>\n",
       "      <td>35112.500000</td>\n",
       "      <td>0.774223</td>\n",
       "      <td>1.500000e+07</td>\n",
       "      <td>2.578782e+07</td>\n",
       "      <td>102.000000</td>\n",
       "      <td>210.000000</td>\n",
       "      <td>6.200000</td>\n",
       "      <td>2010.000000</td>\n",
       "    </tr>\n",
       "    <tr>\n",
       "      <th>75%</th>\n",
       "      <td>83573.000000</td>\n",
       "      <td>1.538639</td>\n",
       "      <td>4.800000e+07</td>\n",
       "      <td>1.278787e+08</td>\n",
       "      <td>116.000000</td>\n",
       "      <td>688.250000</td>\n",
       "      <td>6.800000</td>\n",
       "      <td>2012.000000</td>\n",
       "    </tr>\n",
       "    <tr>\n",
       "      <th>max</th>\n",
       "      <td>414419.000000</td>\n",
       "      <td>32.985763</td>\n",
       "      <td>4.250000e+08</td>\n",
       "      <td>2.781506e+09</td>\n",
       "      <td>705.000000</td>\n",
       "      <td>9767.000000</td>\n",
       "      <td>8.300000</td>\n",
       "      <td>2015.000000</td>\n",
       "    </tr>\n",
       "  </tbody>\n",
       "</table>\n",
       "</div>"
      ],
      "text/plain": [
       "                  id   popularity        budget       revenue      runtime  \\\n",
       "count    1992.000000  1992.000000  1.992000e+03  1.992000e+03  1992.000000   \n",
       "mean    71652.152108     1.316763  3.454924e+07  1.152153e+08   106.040161   \n",
       "std     92355.883915     1.873563  5.061878e+07  2.202887e+08    29.234592   \n",
       "min        11.000000     0.000620  0.000000e+00  0.000000e+00     0.000000   \n",
       "25%      9699.000000     0.384079  0.000000e+00  0.000000e+00    92.000000   \n",
       "50%     35112.500000     0.774223  1.500000e+07  2.578782e+07   102.000000   \n",
       "75%     83573.000000     1.538639  4.800000e+07  1.278787e+08   116.000000   \n",
       "max    414419.000000    32.985763  4.250000e+08  2.781506e+09   705.000000   \n",
       "\n",
       "        vote_count  vote_average  release_year  \n",
       "count  1992.000000   1992.000000   1992.000000  \n",
       "mean    643.616968      6.178614   2007.796687  \n",
       "std    1092.355998      0.881955      7.549224  \n",
       "min      10.000000      2.100000   1961.000000  \n",
       "25%      51.000000      5.600000   2006.000000  \n",
       "50%     210.000000      6.200000   2010.000000  \n",
       "75%     688.250000      6.800000   2012.000000  \n",
       "max    9767.000000      8.300000   2015.000000  "
      ]
     },
     "execution_count": 43,
     "metadata": {},
     "output_type": "execute_result"
    }
   ],
   "source": [
    "df.describe()"
   ]
  },
  {
   "cell_type": "code",
   "execution_count": 44,
   "metadata": {},
   "outputs": [],
   "source": [
    "#checkijng for bugdet columns with zero values\n",
    "sum(df.budget == 0)\n",
    "\n",
    "#dropping budget rows with zero values\n",
    "df = df[df.budget != 0]"
   ]
  },
  {
   "cell_type": "code",
   "execution_count": 45,
   "metadata": {},
   "outputs": [
    {
     "data": {
      "text/plain": [
       "0"
      ]
     },
     "execution_count": 45,
     "metadata": {},
     "output_type": "execute_result"
    }
   ],
   "source": [
    "#checking budget rows to see if the rows with zero values have been dropped\n",
    "sum(df.budget == 0)"
   ]
  },
  {
   "cell_type": "code",
   "execution_count": 46,
   "metadata": {},
   "outputs": [],
   "source": [
    "#Replacing zero values in runtime column with mean\n",
    "runtime_col = df['runtime']\n",
    "runtime_col.replace(to_replace = 0, value = runtime_col.mean(), inplace=True)"
   ]
  },
  {
   "cell_type": "code",
   "execution_count": 47,
   "metadata": {},
   "outputs": [
    {
     "data": {
      "text/plain": [
       "0"
      ]
     },
     "execution_count": 47,
     "metadata": {},
     "output_type": "execute_result"
    }
   ],
   "source": [
    "#checking runtime rows to see if the rows with zero values have been replaced with mean values\n",
    "sum(df.runtime == 0)"
   ]
  },
  {
   "cell_type": "code",
   "execution_count": 48,
   "metadata": {},
   "outputs": [],
   "source": [
    "#Replacing zero values in revenue column with mean\n",
    "revenue_col = df['revenue']\n",
    "revenue_col.replace(to_replace = 0, value = revenue_col.mean(), inplace=True)"
   ]
  },
  {
   "cell_type": "code",
   "execution_count": 49,
   "metadata": {},
   "outputs": [
    {
     "data": {
      "text/plain": [
       "0"
      ]
     },
     "execution_count": 49,
     "metadata": {},
     "output_type": "execute_result"
    }
   ],
   "source": [
    "#checking revenue rows to see if the rows with zero values have been replaced with mean values\n",
    "sum(df.revenue == 0)"
   ]
  },
  {
   "cell_type": "markdown",
   "metadata": {},
   "source": [
    " - **lets have a look at the data again to see there are no 0 values**"
   ]
  },
  {
   "cell_type": "code",
   "execution_count": 50,
   "metadata": {},
   "outputs": [
    {
     "data": {
      "text/html": [
       "<div>\n",
       "<style scoped>\n",
       "    .dataframe tbody tr th:only-of-type {\n",
       "        vertical-align: middle;\n",
       "    }\n",
       "\n",
       "    .dataframe tbody tr th {\n",
       "        vertical-align: top;\n",
       "    }\n",
       "\n",
       "    .dataframe thead th {\n",
       "        text-align: right;\n",
       "    }\n",
       "</style>\n",
       "<table border=\"1\" class=\"dataframe\">\n",
       "  <thead>\n",
       "    <tr style=\"text-align: right;\">\n",
       "      <th></th>\n",
       "      <th>id</th>\n",
       "      <th>popularity</th>\n",
       "      <th>budget</th>\n",
       "      <th>revenue</th>\n",
       "      <th>runtime</th>\n",
       "      <th>vote_count</th>\n",
       "      <th>vote_average</th>\n",
       "      <th>release_year</th>\n",
       "    </tr>\n",
       "  </thead>\n",
       "  <tbody>\n",
       "    <tr>\n",
       "      <th>count</th>\n",
       "      <td>1446.000000</td>\n",
       "      <td>1446.000000</td>\n",
       "      <td>1.446000e+03</td>\n",
       "      <td>1.446000e+03</td>\n",
       "      <td>1446.000000</td>\n",
       "      <td>1446.000000</td>\n",
       "      <td>1446.000000</td>\n",
       "      <td>1446.000000</td>\n",
       "    </tr>\n",
       "    <tr>\n",
       "      <th>mean</th>\n",
       "      <td>56528.937068</td>\n",
       "      <td>1.645021</td>\n",
       "      <td>4.759480e+07</td>\n",
       "      <td>1.741135e+08</td>\n",
       "      <td>109.588183</td>\n",
       "      <td>855.459889</td>\n",
       "      <td>6.226072</td>\n",
       "      <td>2007.230982</td>\n",
       "    </tr>\n",
       "    <tr>\n",
       "      <th>std</th>\n",
       "      <td>78471.732291</td>\n",
       "      <td>2.092793</td>\n",
       "      <td>5.393600e+07</td>\n",
       "      <td>2.395213e+08</td>\n",
       "      <td>23.667945</td>\n",
       "      <td>1214.378903</td>\n",
       "      <td>0.832741</td>\n",
       "      <td>7.875891</td>\n",
       "    </tr>\n",
       "    <tr>\n",
       "      <th>min</th>\n",
       "      <td>11.000000</td>\n",
       "      <td>0.007487</td>\n",
       "      <td>1.000000e+00</td>\n",
       "      <td>4.300000e+01</td>\n",
       "      <td>10.000000</td>\n",
       "      <td>10.000000</td>\n",
       "      <td>2.200000</td>\n",
       "      <td>1961.000000</td>\n",
       "    </tr>\n",
       "    <tr>\n",
       "      <th>25%</th>\n",
       "      <td>7525.000000</td>\n",
       "      <td>0.568599</td>\n",
       "      <td>1.000000e+07</td>\n",
       "      <td>3.139215e+07</td>\n",
       "      <td>95.000000</td>\n",
       "      <td>125.250000</td>\n",
       "      <td>5.700000</td>\n",
       "      <td>2006.000000</td>\n",
       "    </tr>\n",
       "    <tr>\n",
       "      <th>50%</th>\n",
       "      <td>22822.500000</td>\n",
       "      <td>1.056062</td>\n",
       "      <td>3.000000e+07</td>\n",
       "      <td>1.016917e+08</td>\n",
       "      <td>106.000000</td>\n",
       "      <td>373.500000</td>\n",
       "      <td>6.250000</td>\n",
       "      <td>2009.000000</td>\n",
       "    </tr>\n",
       "    <tr>\n",
       "      <th>75%</th>\n",
       "      <td>68557.750000</td>\n",
       "      <td>1.953823</td>\n",
       "      <td>6.500000e+07</td>\n",
       "      <td>1.875963e+08</td>\n",
       "      <td>119.000000</td>\n",
       "      <td>1059.000000</td>\n",
       "      <td>6.800000</td>\n",
       "      <td>2012.000000</td>\n",
       "    </tr>\n",
       "    <tr>\n",
       "      <th>max</th>\n",
       "      <td>414419.000000</td>\n",
       "      <td>32.985763</td>\n",
       "      <td>4.250000e+08</td>\n",
       "      <td>2.781506e+09</td>\n",
       "      <td>540.000000</td>\n",
       "      <td>9767.000000</td>\n",
       "      <td>8.300000</td>\n",
       "      <td>2015.000000</td>\n",
       "    </tr>\n",
       "  </tbody>\n",
       "</table>\n",
       "</div>"
      ],
      "text/plain": [
       "                  id   popularity        budget       revenue      runtime  \\\n",
       "count    1446.000000  1446.000000  1.446000e+03  1.446000e+03  1446.000000   \n",
       "mean    56528.937068     1.645021  4.759480e+07  1.741135e+08   109.588183   \n",
       "std     78471.732291     2.092793  5.393600e+07  2.395213e+08    23.667945   \n",
       "min        11.000000     0.007487  1.000000e+00  4.300000e+01    10.000000   \n",
       "25%      7525.000000     0.568599  1.000000e+07  3.139215e+07    95.000000   \n",
       "50%     22822.500000     1.056062  3.000000e+07  1.016917e+08   106.000000   \n",
       "75%     68557.750000     1.953823  6.500000e+07  1.875963e+08   119.000000   \n",
       "max    414419.000000    32.985763  4.250000e+08  2.781506e+09   540.000000   \n",
       "\n",
       "        vote_count  vote_average  release_year  \n",
       "count  1446.000000   1446.000000   1446.000000  \n",
       "mean    855.459889      6.226072   2007.230982  \n",
       "std    1214.378903      0.832741      7.875891  \n",
       "min      10.000000      2.200000   1961.000000  \n",
       "25%     125.250000      5.700000   2006.000000  \n",
       "50%     373.500000      6.250000   2009.000000  \n",
       "75%    1059.000000      6.800000   2012.000000  \n",
       "max    9767.000000      8.300000   2015.000000  "
      ]
     },
     "execution_count": 50,
     "metadata": {},
     "output_type": "execute_result"
    }
   ],
   "source": [
    "df.describe()"
   ]
  },
  {
   "cell_type": "markdown",
   "metadata": {},
   "source": [
    "### Research question 1 (How the movie budget affects revenue collected)"
   ]
  },
  {
   "cell_type": "code",
   "execution_count": 51,
   "metadata": {},
   "outputs": [
    {
     "data": {
      "image/png": "[encoded data removed]",
      "text/plain": [
       "<matplotlib.figure.Figure at 0x7f0b1aac5da0>"
      ]
     },
     "metadata": {
      "needs_background": "light"
     },
     "output_type": "display_data"
    }
   ],
   "source": [
    "#comparison between a movies budget and the generated revenue\n",
    "df.plot(x = 'budget', y = 'revenue', kind = 'scatter');"
   ]
  },
  {
   "cell_type": "markdown",
   "metadata": {},
   "source": [
    "- **The movies budget seems to have a positive corelation with the revenue**"
   ]
  },
  {
   "cell_type": "code",
   "execution_count": 52,
   "metadata": {},
   "outputs": [
    {
     "data": {
      "image/png": "[encoded data removed]",
      "text/plain": [
       "<matplotlib.figure.Figure at 0x7f0aedccbc50>"
      ]
     },
     "metadata": {
      "needs_background": "light"
     },
     "output_type": "display_data"
    }
   ],
   "source": [
    "#comparison between a movies budget and the runtime\n",
    "df.plot(x = 'budget', y = 'runtime', kind = 'scatter');"
   ]
  },
  {
   "cell_type": "markdown",
   "metadata": {},
   "source": [
    "- **Comparison between a movies bugdet and how long the movie runs shows a normal distribution, so a movies budget does not greatly affect the run time of a movie**"
   ]
  },
  {
   "cell_type": "markdown",
   "metadata": {},
   "source": [
    "### Research Question 2  (Does popularity affect the  success or failure of a movie with regards to the revenue collected)"
   ]
  },
  {
   "cell_type": "code",
   "execution_count": 53,
   "metadata": {},
   "outputs": [
    {
     "data": {
      "text/plain": [
       "count    1446.000000\n",
       "mean        1.645021\n",
       "std         2.092793\n",
       "min         0.007487\n",
       "25%         0.568599\n",
       "50%         1.056062\n",
       "75%         1.953823\n",
       "max        32.985763\n",
       "Name: popularity, dtype: float64"
      ]
     },
     "execution_count": 53,
     "metadata": {},
     "output_type": "execute_result"
    }
   ],
   "source": [
    "#describing the popluar columns and getting popluar movies\n",
    "df.popularity.describe()"
   ]
  },
  {
   "cell_type": "code",
   "execution_count": 54,
   "metadata": {},
   "outputs": [],
   "source": [
    "#popular movies\n",
    "popular = df[df.popularity >= 1.953823]"
   ]
  },
  {
   "cell_type": "code",
   "execution_count": 55,
   "metadata": {},
   "outputs": [
    {
     "data": {
      "text/html": [
       "<div>\n",
       "<style scoped>\n",
       "    .dataframe tbody tr th:only-of-type {\n",
       "        vertical-align: middle;\n",
       "    }\n",
       "\n",
       "    .dataframe tbody tr th {\n",
       "        vertical-align: top;\n",
       "    }\n",
       "\n",
       "    .dataframe thead th {\n",
       "        text-align: right;\n",
       "    }\n",
       "</style>\n",
       "<table border=\"1\" class=\"dataframe\">\n",
       "  <thead>\n",
       "    <tr style=\"text-align: right;\">\n",
       "      <th></th>\n",
       "      <th>id</th>\n",
       "      <th>popularity</th>\n",
       "      <th>budget</th>\n",
       "      <th>revenue</th>\n",
       "      <th>original_title</th>\n",
       "      <th>cast</th>\n",
       "      <th>director</th>\n",
       "      <th>runtime</th>\n",
       "      <th>genres</th>\n",
       "      <th>production_companies</th>\n",
       "      <th>release_date</th>\n",
       "      <th>vote_count</th>\n",
       "      <th>vote_average</th>\n",
       "      <th>release_year</th>\n",
       "    </tr>\n",
       "  </thead>\n",
       "  <tbody>\n",
       "    <tr>\n",
       "      <th>0</th>\n",
       "      <td>135397</td>\n",
       "      <td>32.985763</td>\n",
       "      <td>150000000</td>\n",
       "      <td>1.513529e+09</td>\n",
       "      <td>Jurassic World</td>\n",
       "      <td>Chris Pratt|Bryce Dallas Howard|Irrfan Khan|Vi...</td>\n",
       "      <td>Colin Trevorrow</td>\n",
       "      <td>124.0</td>\n",
       "      <td>Action|Adventure|Science Fiction|Thriller</td>\n",
       "      <td>Universal Studios|Amblin Entertainment|Legenda...</td>\n",
       "      <td>2015-06-09</td>\n",
       "      <td>5562</td>\n",
       "      <td>6.5</td>\n",
       "      <td>2015</td>\n",
       "    </tr>\n",
       "    <tr>\n",
       "      <th>1</th>\n",
       "      <td>76341</td>\n",
       "      <td>28.419936</td>\n",
       "      <td>150000000</td>\n",
       "      <td>3.784364e+08</td>\n",
       "      <td>Mad Max: Fury Road</td>\n",
       "      <td>Tom Hardy|Charlize Theron|Hugh Keays-Byrne|Nic...</td>\n",
       "      <td>George Miller</td>\n",
       "      <td>120.0</td>\n",
       "      <td>Action|Adventure|Science Fiction|Thriller</td>\n",
       "      <td>Village Roadshow Pictures|Kennedy Miller Produ...</td>\n",
       "      <td>2015-05-13</td>\n",
       "      <td>6185</td>\n",
       "      <td>7.1</td>\n",
       "      <td>2015</td>\n",
       "    </tr>\n",
       "    <tr>\n",
       "      <th>2</th>\n",
       "      <td>262500</td>\n",
       "      <td>13.112507</td>\n",
       "      <td>110000000</td>\n",
       "      <td>2.952382e+08</td>\n",
       "      <td>Insurgent</td>\n",
       "      <td>Shailene Woodley|Theo James|Kate Winslet|Ansel...</td>\n",
       "      <td>Robert Schwentke</td>\n",
       "      <td>119.0</td>\n",
       "      <td>Adventure|Science Fiction|Thriller</td>\n",
       "      <td>Summit Entertainment|Mandeville Films|Red Wago...</td>\n",
       "      <td>2015-03-18</td>\n",
       "      <td>2480</td>\n",
       "      <td>6.3</td>\n",
       "      <td>2015</td>\n",
       "    </tr>\n",
       "    <tr>\n",
       "      <th>3</th>\n",
       "      <td>140607</td>\n",
       "      <td>11.173104</td>\n",
       "      <td>200000000</td>\n",
       "      <td>2.068178e+09</td>\n",
       "      <td>Star Wars: The Force Awakens</td>\n",
       "      <td>Harrison Ford|Mark Hamill|Carrie Fisher|Adam D...</td>\n",
       "      <td>J.J. Abrams</td>\n",
       "      <td>136.0</td>\n",
       "      <td>Action|Adventure|Science Fiction|Fantasy</td>\n",
       "      <td>Lucasfilm|Truenorth Productions|Bad Robot</td>\n",
       "      <td>2015-12-15</td>\n",
       "      <td>5292</td>\n",
       "      <td>7.5</td>\n",
       "      <td>2015</td>\n",
       "    </tr>\n",
       "    <tr>\n",
       "      <th>4</th>\n",
       "      <td>168259</td>\n",
       "      <td>9.335014</td>\n",
       "      <td>190000000</td>\n",
       "      <td>1.506249e+09</td>\n",
       "      <td>Furious 7</td>\n",
       "      <td>Vin Diesel|Paul Walker|Jason Statham|Michelle ...</td>\n",
       "      <td>James Wan</td>\n",
       "      <td>137.0</td>\n",
       "      <td>Action|Crime|Thriller</td>\n",
       "      <td>Universal Pictures|Original Film|Media Rights ...</td>\n",
       "      <td>2015-04-01</td>\n",
       "      <td>2947</td>\n",
       "      <td>7.3</td>\n",
       "      <td>2015</td>\n",
       "    </tr>\n",
       "  </tbody>\n",
       "</table>\n",
       "</div>"
      ],
      "text/plain": [
       "       id  popularity     budget       revenue                original_title  \\\n",
       "0  135397   32.985763  150000000  1.513529e+09                Jurassic World   \n",
       "1   76341   28.419936  150000000  3.784364e+08            Mad Max: Fury Road   \n",
       "2  262500   13.112507  110000000  2.952382e+08                     Insurgent   \n",
       "3  140607   11.173104  200000000  2.068178e+09  Star Wars: The Force Awakens   \n",
       "4  168259    9.335014  190000000  1.506249e+09                     Furious 7   \n",
       "\n",
       "                                                cast          director  \\\n",
       "0  Chris Pratt|Bryce Dallas Howard|Irrfan Khan|Vi...   Colin Trevorrow   \n",
       "1  Tom Hardy|Charlize Theron|Hugh Keays-Byrne|Nic...     George Miller   \n",
       "2  Shailene Woodley|Theo James|Kate Winslet|Ansel...  Robert Schwentke   \n",
       "3  Harrison Ford|Mark Hamill|Carrie Fisher|Adam D...       J.J. Abrams   \n",
       "4  Vin Diesel|Paul Walker|Jason Statham|Michelle ...         James Wan   \n",
       "\n",
       "   runtime                                     genres  \\\n",
       "0    124.0  Action|Adventure|Science Fiction|Thriller   \n",
       "1    120.0  Action|Adventure|Science Fiction|Thriller   \n",
       "2    119.0         Adventure|Science Fiction|Thriller   \n",
       "3    136.0   Action|Adventure|Science Fiction|Fantasy   \n",
       "4    137.0                      Action|Crime|Thriller   \n",
       "\n",
       "                                production_companies release_date  vote_count  \\\n",
       "0  Universal Studios|Amblin Entertainment|Legenda...   2015-06-09        5562   \n",
       "1  Village Roadshow Pictures|Kennedy Miller Produ...   2015-05-13        6185   \n",
       "2  Summit Entertainment|Mandeville Films|Red Wago...   2015-03-18        2480   \n",
       "3          Lucasfilm|Truenorth Productions|Bad Robot   2015-12-15        5292   \n",
       "4  Universal Pictures|Original Film|Media Rights ...   2015-04-01        2947   \n",
       "\n",
       "   vote_average  release_year  \n",
       "0           6.5          2015  \n",
       "1           7.1          2015  \n",
       "2           6.3          2015  \n",
       "3           7.5          2015  \n",
       "4           7.3          2015  "
      ]
     },
     "execution_count": 55,
     "metadata": {},
     "output_type": "execute_result"
    }
   ],
   "source": [
    "popular.head()"
   ]
  },
  {
   "cell_type": "code",
   "execution_count": 56,
   "metadata": {},
   "outputs": [
    {
     "data": {
      "text/html": [
       "<style  type=\"text/css\" >\n",
       "</style>  \n",
       "<table id=\"T_f2481c94_4616_11ed_87cc_0242ac120002\" > \n",
       "<thead>    <tr> \n",
       "        <th class=\"col_heading level0 col0\" >original_title</th> \n",
       "        <th class=\"col_heading level0 col1\" >popularity</th> \n",
       "        <th class=\"col_heading level0 col2\" >release_date</th> \n",
       "        <th class=\"col_heading level0 col3\" >revenue</th> \n",
       "    </tr></thead> \n",
       "<tbody>    <tr> \n",
       "        <td id=\"T_f2481c94_4616_11ed_87cc_0242ac120002row0_col0\" class=\"data row0 col0\" >Jurassic World</td> \n",
       "        <td id=\"T_f2481c94_4616_11ed_87cc_0242ac120002row0_col1\" class=\"data row0 col1\" >32.9858</td> \n",
       "        <td id=\"T_f2481c94_4616_11ed_87cc_0242ac120002row0_col2\" class=\"data row0 col2\" >2015-06-09 00:00:00</td> \n",
       "        <td id=\"T_f2481c94_4616_11ed_87cc_0242ac120002row0_col3\" class=\"data row0 col3\" >1.51353e+09</td> \n",
       "    </tr>    <tr> \n",
       "        <td id=\"T_f2481c94_4616_11ed_87cc_0242ac120002row1_col0\" class=\"data row1 col0\" >Mad Max: Fury Road</td> \n",
       "        <td id=\"T_f2481c94_4616_11ed_87cc_0242ac120002row1_col1\" class=\"data row1 col1\" >28.4199</td> \n",
       "        <td id=\"T_f2481c94_4616_11ed_87cc_0242ac120002row1_col2\" class=\"data row1 col2\" >2015-05-13 00:00:00</td> \n",
       "        <td id=\"T_f2481c94_4616_11ed_87cc_0242ac120002row1_col3\" class=\"data row1 col3\" >3.78436e+08</td> \n",
       "    </tr>    <tr> \n",
       "        <td id=\"T_f2481c94_4616_11ed_87cc_0242ac120002row2_col0\" class=\"data row2 col0\" >Interstellar</td> \n",
       "        <td id=\"T_f2481c94_4616_11ed_87cc_0242ac120002row2_col1\" class=\"data row2 col1\" >24.9491</td> \n",
       "        <td id=\"T_f2481c94_4616_11ed_87cc_0242ac120002row2_col2\" class=\"data row2 col2\" >2014-11-05 00:00:00</td> \n",
       "        <td id=\"T_f2481c94_4616_11ed_87cc_0242ac120002row2_col3\" class=\"data row2 col3\" >6.21752e+08</td> \n",
       "    </tr>    <tr> \n",
       "        <td id=\"T_f2481c94_4616_11ed_87cc_0242ac120002row3_col0\" class=\"data row3 col0\" >Guardians of the Galaxy</td> \n",
       "        <td id=\"T_f2481c94_4616_11ed_87cc_0242ac120002row3_col1\" class=\"data row3 col1\" >14.3112</td> \n",
       "        <td id=\"T_f2481c94_4616_11ed_87cc_0242ac120002row3_col2\" class=\"data row3 col2\" >2014-07-30 00:00:00</td> \n",
       "        <td id=\"T_f2481c94_4616_11ed_87cc_0242ac120002row3_col3\" class=\"data row3 col3\" >7.73312e+08</td> \n",
       "    </tr>    <tr> \n",
       "        <td id=\"T_f2481c94_4616_11ed_87cc_0242ac120002row4_col0\" class=\"data row4 col0\" >Insurgent</td> \n",
       "        <td id=\"T_f2481c94_4616_11ed_87cc_0242ac120002row4_col1\" class=\"data row4 col1\" >13.1125</td> \n",
       "        <td id=\"T_f2481c94_4616_11ed_87cc_0242ac120002row4_col2\" class=\"data row4 col2\" >2015-03-18 00:00:00</td> \n",
       "        <td id=\"T_f2481c94_4616_11ed_87cc_0242ac120002row4_col3\" class=\"data row4 col3\" >2.95238e+08</td> \n",
       "    </tr>    <tr> \n",
       "        <td id=\"T_f2481c94_4616_11ed_87cc_0242ac120002row5_col0\" class=\"data row5 col0\" >Captain America: The Winter Soldier</td> \n",
       "        <td id=\"T_f2481c94_4616_11ed_87cc_0242ac120002row5_col1\" class=\"data row5 col1\" >12.971</td> \n",
       "        <td id=\"T_f2481c94_4616_11ed_87cc_0242ac120002row5_col2\" class=\"data row5 col2\" >2014-03-20 00:00:00</td> \n",
       "        <td id=\"T_f2481c94_4616_11ed_87cc_0242ac120002row5_col3\" class=\"data row5 col3\" >7.14767e+08</td> \n",
       "    </tr>    <tr> \n",
       "        <td id=\"T_f2481c94_4616_11ed_87cc_0242ac120002row6_col0\" class=\"data row6 col0\" >Star Wars</td> \n",
       "        <td id=\"T_f2481c94_4616_11ed_87cc_0242ac120002row6_col1\" class=\"data row6 col1\" >12.0379</td> \n",
       "        <td id=\"T_f2481c94_4616_11ed_87cc_0242ac120002row6_col2\" class=\"data row6 col2\" >1977-03-20 00:00:00</td> \n",
       "        <td id=\"T_f2481c94_4616_11ed_87cc_0242ac120002row6_col3\" class=\"data row6 col3\" >7.75398e+08</td> \n",
       "    </tr>    <tr> \n",
       "        <td id=\"T_f2481c94_4616_11ed_87cc_0242ac120002row7_col0\" class=\"data row7 col0\" >John Wick</td> \n",
       "        <td id=\"T_f2481c94_4616_11ed_87cc_0242ac120002row7_col1\" class=\"data row7 col1\" >11.4228</td> \n",
       "        <td id=\"T_f2481c94_4616_11ed_87cc_0242ac120002row7_col2\" class=\"data row7 col2\" >2014-10-22 00:00:00</td> \n",
       "        <td id=\"T_f2481c94_4616_11ed_87cc_0242ac120002row7_col3\" class=\"data row7 col3\" >7.87399e+07</td> \n",
       "    </tr>    <tr> \n",
       "        <td id=\"T_f2481c94_4616_11ed_87cc_0242ac120002row8_col0\" class=\"data row8 col0\" >Star Wars: The Force Awakens</td> \n",
       "        <td id=\"T_f2481c94_4616_11ed_87cc_0242ac120002row8_col1\" class=\"data row8 col1\" >11.1731</td> \n",
       "        <td id=\"T_f2481c94_4616_11ed_87cc_0242ac120002row8_col2\" class=\"data row8 col2\" >2015-12-15 00:00:00</td> \n",
       "        <td id=\"T_f2481c94_4616_11ed_87cc_0242ac120002row8_col3\" class=\"data row8 col3\" >2.06818e+09</td> \n",
       "    </tr>    <tr> \n",
       "        <td id=\"T_f2481c94_4616_11ed_87cc_0242ac120002row9_col0\" class=\"data row9 col0\" >The Hunger Games: Mockingjay - Part 1</td> \n",
       "        <td id=\"T_f2481c94_4616_11ed_87cc_0242ac120002row9_col1\" class=\"data row9 col1\" >10.739</td> \n",
       "        <td id=\"T_f2481c94_4616_11ed_87cc_0242ac120002row9_col2\" class=\"data row9 col2\" >2014-11-18 00:00:00</td> \n",
       "        <td id=\"T_f2481c94_4616_11ed_87cc_0242ac120002row9_col3\" class=\"data row9 col3\" >7.521e+08</td> \n",
       "    </tr>    <tr> \n",
       "        <td id=\"T_f2481c94_4616_11ed_87cc_0242ac120002row10_col0\" class=\"data row10 col0\" >The Hobbit: The Battle of the Five Armies</td> \n",
       "        <td id=\"T_f2481c94_4616_11ed_87cc_0242ac120002row10_col1\" class=\"data row10 col1\" >10.1746</td> \n",
       "        <td id=\"T_f2481c94_4616_11ed_87cc_0242ac120002row10_col2\" class=\"data row10 col2\" >2014-12-10 00:00:00</td> \n",
       "        <td id=\"T_f2481c94_4616_11ed_87cc_0242ac120002row10_col3\" class=\"data row10 col3\" >9.5512e+08</td> \n",
       "    </tr>    <tr> \n",
       "        <td id=\"T_f2481c94_4616_11ed_87cc_0242ac120002row11_col0\" class=\"data row11 col0\" >Avatar</td> \n",
       "        <td id=\"T_f2481c94_4616_11ed_87cc_0242ac120002row11_col1\" class=\"data row11 col1\" >9.43277</td> \n",
       "        <td id=\"T_f2481c94_4616_11ed_87cc_0242ac120002row11_col2\" class=\"data row11 col2\" >2009-12-10 00:00:00</td> \n",
       "        <td id=\"T_f2481c94_4616_11ed_87cc_0242ac120002row11_col3\" class=\"data row11 col3\" >2.78151e+09</td> \n",
       "    </tr>    <tr> \n",
       "        <td id=\"T_f2481c94_4616_11ed_87cc_0242ac120002row12_col0\" class=\"data row12 col0\" >Inception</td> \n",
       "        <td id=\"T_f2481c94_4616_11ed_87cc_0242ac120002row12_col1\" class=\"data row12 col1\" >9.36364</td> \n",
       "        <td id=\"T_f2481c94_4616_11ed_87cc_0242ac120002row12_col2\" class=\"data row12 col2\" >2010-07-14 00:00:00</td> \n",
       "        <td id=\"T_f2481c94_4616_11ed_87cc_0242ac120002row12_col3\" class=\"data row12 col3\" >8.255e+08</td> \n",
       "    </tr>    <tr> \n",
       "        <td id=\"T_f2481c94_4616_11ed_87cc_0242ac120002row13_col0\" class=\"data row13 col0\" >Furious 7</td> \n",
       "        <td id=\"T_f2481c94_4616_11ed_87cc_0242ac120002row13_col1\" class=\"data row13 col1\" >9.33501</td> \n",
       "        <td id=\"T_f2481c94_4616_11ed_87cc_0242ac120002row13_col2\" class=\"data row13 col2\" >2015-04-01 00:00:00</td> \n",
       "        <td id=\"T_f2481c94_4616_11ed_87cc_0242ac120002row13_col3\" class=\"data row13 col3\" >1.50625e+09</td> \n",
       "    </tr>    <tr> \n",
       "        <td id=\"T_f2481c94_4616_11ed_87cc_0242ac120002row14_col0\" class=\"data row14 col0\" >The Revenant</td> \n",
       "        <td id=\"T_f2481c94_4616_11ed_87cc_0242ac120002row14_col1\" class=\"data row14 col1\" >9.1107</td> \n",
       "        <td id=\"T_f2481c94_4616_11ed_87cc_0242ac120002row14_col2\" class=\"data row14 col2\" >2015-12-25 00:00:00</td> \n",
       "        <td id=\"T_f2481c94_4616_11ed_87cc_0242ac120002row14_col3\" class=\"data row14 col3\" >5.32951e+08</td> \n",
       "    </tr></tbody> \n",
       "</table> "
      ],
      "text/plain": [
       "<pandas.io.formats.style.Styler at 0x7f0ae0fe7a90>"
      ]
     },
     "execution_count": 56,
     "metadata": {},
     "output_type": "execute_result"
    }
   ],
   "source": [
    "# Filtering the top 15 most popular movies\n",
    "top_popular = df.sort_values('popularity', axis=0, ascending=False).head(15)\n",
    "\n",
    "# Filtering the top 15 successful movies\n",
    "top_successful = popular.sort_values('revenue', axis=0, ascending=False).head(15)\n",
    "\n",
    "# What are the top 15 popular movies\n",
    "top_popular[['original_title', 'popularity', 'release_date', 'revenue']].style.hide_index()"
   ]
  },
  {
   "cell_type": "markdown",
   "metadata": {},
   "source": [
    "- **From the above we can see that popularity of a movie does not necessarily reflect on the success of a movie as refelected on the revenue column**"
   ]
  },
  {
   "cell_type": "markdown",
   "metadata": {},
   "source": [
    "<a id='conclusions'></a>\n",
    "## Conclusions\n",
    "\n",
    "The dataset is quiet extensive but it was easy to work with.On the data wrangling part,the data had no duplicate value but it has about a few `NULL` values and `0` values for both `budget` and `revenue` columns. I dropped the `NULL` values and the `0` values on  the `budget` column and filled the `revenue` column with the mean, since dropping all columns would mean losing a lot of the data in the dataset.\n",
    "  \n",
    "In the first question, I compared relationship between variaous variables and how they affect one another. i compared the how a movies budget affects its revenue and also if the movie runtime affects the budget. from the scatter plot generated, it showed a positive distribution in the case where i compared the movies budget and the revenue,hence a movies budget may affect its final revenue. in the case of runtime i got a normal distribution thus showing a movies runtime does not necessarily affect its budget.\n",
    "  \n",
    "In the next question, I analysed how a movies popularity determines its success or failure. I calculated the movies profit, by subtracting the `budget` from the `revenue` and put it in a `profit` column. Then set successful movies to be be belong to `75` percentile of the profit column while flopped movies belong to `25` percentile of the profit column. i analyzed the top 15 popular succesful movies and compared there profit column to see if popularity of a movie affects it success by looking at the most popular movies and their profits.\n",
    "  \n"
   ]
  },
  {
   "cell_type": "markdown",
   "metadata": {},
   "source": [
    "# limitations\n",
    "\n",
    "The dataset is filled with a bunch of `NULL` values for some of its columns. A huge chunk of the `budget` and `revebue` columns contained 0 value."
   ]
  },
  {
   "cell_type": "code",
   "execution_count": 57,
   "metadata": {},
   "outputs": [
    {
     "data": {
      "text/plain": [
       "0"
      ]
     },
     "execution_count": 57,
     "metadata": {},
     "output_type": "execute_result"
    }
   ],
   "source": [
    "from subprocess import call\n",
    "call(['python', '-m', 'nbconvert', 'Investigate_a_Dataset.ipynb'])"
   ]
  },
  {
   "cell_type": "code",
   "execution_count": null,
   "metadata": {},
   "outputs": [],
   "source": []
  }
 ],
 "metadata": {
  "kernelspec": {
   "display_name": "Python 3",
   "language": "python",
   "name": "python3"
  },
  "language_info": {
   "codemirror_mode": {
    "name": "ipython",
    "version": 3
   },
   "file_extension": ".py",
   "mimetype": "text/x-python",
   "name": "python",
   "nbconvert_exporter": "python",
   "pygments_lexer": "ipython3",
   "version": "3.6.3"
  }
 },
 "nbformat": 4,
 "nbformat_minor": 2
}
